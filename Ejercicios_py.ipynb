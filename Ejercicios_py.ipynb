{
  "nbformat": 4,
  "nbformat_minor": 0,
  "metadata": {
    "colab": {
      "name": "Ejercicios.py",
      "provenance": [],
      "authorship_tag": "ABX9TyPlTQiGqpLrmiOkDifW4VBT",
      "include_colab_link": true
    },
    "kernelspec": {
      "name": "python3",
      "display_name": "Python 3"
    },
    "language_info": {
      "name": "python"
    }
  },
  "cells": [
    {
      "cell_type": "markdown",
      "metadata": {
        "id": "view-in-github",
        "colab_type": "text"
      },
      "source": [
        "<a href=\"https://colab.research.google.com/github/Fabian-LG/Ejercicios-Colab/blob/main/Ejercicios_py.ipynb\" target=\"_parent\"><img src=\"https://colab.research.google.com/assets/colab-badge.svg\" alt=\"Open In Colab\"/></a>"
      ]
    },
    {
      "cell_type": "code",
      "execution_count": null,
      "metadata": {
        "id": "v6ye-CL3f8Xa"
      },
      "outputs": [],
      "source": [
        "#Ejemplo\n",
        "#sample input\n",
        "array = [3, 5, -4, 11, 1, -1, 6]\n",
        "target_sum = 8\n",
        "\n",
        "\n",
        "  "
      ]
    },
    {
      "cell_type": "code",
      "source": [
        "#Write your code here\n",
        "def two_numbers_sum(array, target_sum):\n",
        "  for i in range(len(array)-1):\n",
        "    first_num = array[i]\n",
        "    for j in range(i + 1, len(array)):\n",
        "      second_num = array[j]\n",
        "      if first_num + second_num == target_sum:\n",
        "        print([first_num, second_num]) "
      ],
      "metadata": {
        "id": "tanj8bwE6J0B"
      },
      "execution_count": null,
      "outputs": []
    },
    {
      "cell_type": "code",
      "source": [
        "two_numbers_sum(array, target_sum)"
      ],
      "metadata": {
        "colab": {
          "base_uri": "https://localhost:8080/"
        },
        "id": "G-gV-UIB6RNg",
        "outputId": "d39b1db1-0ae8-46b3-9806-3b896bb8aa11"
      },
      "execution_count": null,
      "outputs": [
        {
          "output_type": "stream",
          "name": "stdout",
          "text": [
            "[3, 5]\n"
          ]
        }
      ]
    },
    {
      "cell_type": "code",
      "source": [
        "#Ejercicio 1\n",
        "#sample input\n",
        "array = [5,1,22,25,6,-1,8,10]\n",
        "#sequence = [1,5,-1,10] #False\n",
        "sequence = [5,22,25,10] #True"
      ],
      "metadata": {
        "id": "wvVGDpZ-kWgW"
      },
      "execution_count": null,
      "outputs": []
    },
    {
      "cell_type": "code",
      "source": [
        "def is_valid_subsequence(array, sequence):\n",
        "  nuevo_arreglo =[]\n",
        "  for value in array:\n",
        "    for valor in sequence:\n",
        "      if valor == value:\n",
        "        nuevo_arreglo.append(valor)\n",
        "        break\n",
        "    \n",
        "  return nuevo_arreglo==sequence\n"
      ],
      "metadata": {
        "id": "2JZkR94skbJk"
      },
      "execution_count": null,
      "outputs": []
    },
    {
      "cell_type": "code",
      "source": [
        "#Test your code here\n",
        "print(is_valid_subsequence(array, sequence))"
      ],
      "metadata": {
        "colab": {
          "base_uri": "https://localhost:8080/"
        },
        "id": "W6uCpWHykcFu",
        "outputId": "1308fc54-53ff-4363-90bb-15087e9006e9"
      },
      "execution_count": null,
      "outputs": [
        {
          "output_type": "stream",
          "name": "stdout",
          "text": [
            "True\n"
          ]
        }
      ]
    },
    {
      "cell_type": "code",
      "source": [
        "#Ejercicio 2\n",
        "#sample input\n",
        "#numeros = [1,2,3,5,6,8,9]\n",
        "numeros = [1,2,3,4,5,6,7]\n"
      ],
      "metadata": {
        "id": "99hPFEUblTvs"
      },
      "execution_count": null,
      "outputs": []
    },
    {
      "cell_type": "code",
      "source": [
        "def sorted_squared_array(arreglo):\n",
        "  cuadrados=[]\n",
        "  for i in numeros:\n",
        "    cuadrados.append(i*i)\n",
        "    \n",
        "  return cuadrados"
      ],
      "metadata": {
        "id": "b7jj9v4ZlcpP"
      },
      "execution_count": null,
      "outputs": []
    },
    {
      "cell_type": "code",
      "source": [
        "#Test your code here\n",
        "#sorted_squared_array(array)\n",
        "print(sorted_squared_array(numeros))"
      ],
      "metadata": {
        "colab": {
          "base_uri": "https://localhost:8080/"
        },
        "id": "-hToKPMQle0Q",
        "outputId": "6fd97703-0bc1-44f3-966f-abd55458f6cd"
      },
      "execution_count": null,
      "outputs": [
        {
          "output_type": "stream",
          "name": "stdout",
          "text": [
            "[1, 4, 9, 16, 25, 36, 49]\n"
          ]
        }
      ]
    },
    {
      "cell_type": "code",
      "source": [
        "#Ejercicio 3\n",
        "#Sample input\n",
        "array_bb = [0,1,21,31,33, 45,45,71,72,73]\n",
        "#array_bb = [0,1,21,33,45,45,31,71,72,73]\n",
        "target = 72\n"
      ],
      "metadata": {
        "id": "zyKpKml7U80R"
      },
      "execution_count": null,
      "outputs": []
    },
    {
      "cell_type": "code",
      "source": [
        "def binary_search(array, target):\n",
        "  primero = 0\n",
        "  ultimo = len(array)-1\n",
        "  encontrado = False\n",
        "\n",
        "  while primero <= ultimo and not encontrado:\n",
        "    mitad = (primero+ultimo)//2\n",
        "\n",
        "    if array[mitad] == target:\n",
        "      encontrado = True\n",
        "    else:\n",
        "      if target<array[mitad]:\n",
        "        ultimo=mitad-1\n",
        "      else:\n",
        "        primero=mitad+1\n",
        "\n",
        "  if encontrado == True: \n",
        "    return array_bb.index(array[mitad])\n",
        "    #return \"Se encontró\"\n",
        "  else:\n",
        "    return encontrado\n",
        "\n",
        "\n"
      ],
      "metadata": {
        "id": "h9K0EkKfVA9Y"
      },
      "execution_count": null,
      "outputs": []
    },
    {
      "cell_type": "code",
      "source": [
        "#Test your code\n",
        "print(binary_search(array_bb, target))\n",
        "#binary_search(array_bb, target)"
      ],
      "metadata": {
        "colab": {
          "base_uri": "https://localhost:8080/"
        },
        "id": "GzvNT_X4VDsI",
        "outputId": "f84a914e-be56-4bf2-d22e-105a6f4fa4d0"
      },
      "execution_count": null,
      "outputs": [
        {
          "output_type": "stream",
          "name": "stdout",
          "text": [
            "8\n"
          ]
        }
      ]
    },
    {
      "cell_type": "code",
      "source": [
        "#Ejercicio 4\n",
        "valores={\n",
        "    \"b\":\"a\",\"c\":\"a\",\"d\":\"a\",\n",
        "    \"e\":\"b\",\"f\":\"b\",\n",
        "    \"h\":\"c\",\n",
        "    \"i\":\"d\",\"j\":\"d\",\n",
        "    \"k\":\"e\",\n",
        "    \"m\":\"f\",\n",
        "    \"g\":\"h\",\n",
        "    \"l\":\"j\",\n",
        "    \"n\":\"m\",\"o\":\"m\"\n",
        "}\n",
        "camino=[]"
      ],
      "metadata": {
        "id": "6jONwRtIqMj0"
      },
      "execution_count": null,
      "outputs": []
    },
    {
      "cell_type": "code",
      "source": [
        "def buscar(inicio, valorBuscar):\n",
        "  camino.append(inicio)\n",
        "  if inicio==valorBuscar:\n",
        "    return valorBuscar\n",
        "\n",
        "  for llave,valor in valores.items():\n",
        "    if valor==inicio:\n",
        "      result=buscar(llave,valorBuscar)#función recursiva\n",
        "\n",
        "      if result:\n",
        "        return result\n",
        "\n",
        "  red=camino.pop()#eliminar valores en camino\n",
        "\n",
        "  return 0\n"
      ],
      "metadata": {
        "id": "jT5OoWCRDXwy"
      },
      "execution_count": null,
      "outputs": []
    },
    {
      "cell_type": "code",
      "source": [
        "origen=\"a\"\n",
        "destino=\"n\"\n",
        "\n",
        "result = buscar(origen, destino)\n",
        "if result:\n",
        "  print(camino)\n",
        "else:\n",
        "  print(\"no encontrado\")"
      ],
      "metadata": {
        "colab": {
          "base_uri": "https://localhost:8080/"
        },
        "id": "i5j16zT6EgJK",
        "outputId": "5ad26fc4-eb89-4f94-a824-838af6177232"
      },
      "execution_count": null,
      "outputs": [
        {
          "output_type": "stream",
          "name": "stdout",
          "text": [
            "['a', 'b', 'f', 'm', 'n']\n"
          ]
        }
      ]
    },
    {
      "cell_type": "code",
      "source": [
        "#Ejercicio 5\n",
        "#array_bs = [8,5,2,9,5,6,3]\n",
        "array_bs = [8,5,2,9,7,9,10,1]"
      ],
      "metadata": {
        "id": "M7eINsRUZ92O"
      },
      "execution_count": null,
      "outputs": []
    },
    {
      "cell_type": "code",
      "source": [
        "def bubble_sort(array):\n",
        "  comprobacion = False\n",
        "  while comprobacion == False:\n",
        "    comprobacion = True\n",
        "    for i in range(len(array_bs)-1):\n",
        "      if array_bs[i] > array_bs[i+1]:\n",
        "        auxiliar = array_bs[i]\n",
        "        array_bs[i]=array_bs[i+1]\n",
        "        array_bs[i+1]=auxiliar\n",
        "        comprobacion = False\n",
        "\n",
        "  return array_bs\n"
      ],
      "metadata": {
        "id": "EHt_O4P_aDZE"
      },
      "execution_count": null,
      "outputs": []
    },
    {
      "cell_type": "code",
      "source": [
        "#test your code\n",
        "print(bubble_sort(array_bs))"
      ],
      "metadata": {
        "colab": {
          "base_uri": "https://localhost:8080/"
        },
        "id": "akeo3ENoaG7U",
        "outputId": "d576c8c4-19a5-4c7e-8b78-67022bebaa2c"
      },
      "execution_count": null,
      "outputs": [
        {
          "output_type": "stream",
          "name": "stdout",
          "text": [
            "[1, 2, 5, 7, 8, 9, 9, 10]\n"
          ]
        }
      ]
    }
  ]
}